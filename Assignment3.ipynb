{
 "cells": [
  {
   "cell_type": "code",
   "execution_count": 1,
   "id": "bb77c119",
   "metadata": {},
   "outputs": [
    {
     "name": "stdout",
     "output_type": "stream",
     "text": [
      "Collecting delta-spark\n",
      "  Downloading delta_spark-3.0.0-py3-none-any.whl.metadata (2.0 kB)\n",
      "Requirement already satisfied: pyspark<3.6.0,>=3.5.0 in /usr/local/spark/python (from delta-spark) (3.5.0)\n",
      "Requirement already satisfied: importlib-metadata>=1.0.0 in /opt/conda/lib/python3.11/site-packages (from delta-spark) (6.8.0)\n",
      "Requirement already satisfied: zipp>=0.5 in /opt/conda/lib/python3.11/site-packages (from importlib-metadata>=1.0.0->delta-spark) (3.17.0)\n",
      "Collecting py4j==0.10.9.7 (from pyspark<3.6.0,>=3.5.0->delta-spark)\n",
      "  Downloading py4j-0.10.9.7-py2.py3-none-any.whl (200 kB)\n",
      "\u001b[2K     \u001b[90m━━━━━━━━━━━━━━━━━━━━━━━━━━━━━━━━━━━━━\u001b[0m \u001b[32m200.5/200.5 kB\u001b[0m \u001b[31m963.9 kB/s\u001b[0m eta \u001b[36m0:00:00\u001b[0ma \u001b[36m0:00:01\u001b[0m\n",
      "\u001b[?25hDownloading delta_spark-3.0.0-py3-none-any.whl (21 kB)\n",
      "Installing collected packages: py4j, delta-spark\n",
      "Successfully installed delta-spark-3.0.0 py4j-0.10.9.7\n",
      "Note: you may need to restart the kernel to use updated packages.\n"
     ]
    }
   ],
   "source": [
    "pip install delta-spark"
   ]
  },
  {
   "cell_type": "code",
   "execution_count": 1,
   "id": "85cafb66",
   "metadata": {},
   "outputs": [],
   "source": [
    "from pyspark.conf import SparkConf\n",
    "from pyspark.context import SparkContext\n",
    "from pyspark.sql import SparkSession\n",
    "import random \n",
    "from random import randint\n",
    "from pyspark.sql import functions as F\n",
    "from pyspark.sql.types import StringType\n",
    "from delta.tables import DeltaTable"
   ]
  },
  {
   "cell_type": "code",
   "execution_count": 2,
   "id": "a7d8857e",
   "metadata": {},
   "outputs": [],
   "source": [
    "spark_conf = (\n",
    "    SparkConf()\n",
    "    .set(\"spark.jars.packages\", 'org.apache.hadoop:hadoop-client:3.3.4,org.apache.hadoop:hadoop-aws:3.3.4,io.delta:delta-spark_2.12:3.0.0')\n",
    "  \n",
    "    .set(\"spark.driver.memory\", \"6g\")\n",
    "\n",
    "    \n",
    "    .set(\"spark.hadoop.fs.s3a.endpoint\", \"minio:9000\")\n",
    "    .set(\"spark.hadoop.fs.s3a.access.key\", \"lhN570D4HT3OyEVXgif4\")\n",
    "    .set(\"spark.hadoop.fs.s3a.secret.key\", \"VVkigfOUyMLSiq3a8mqFrjqA79rga0cMoAZHZgTA\" )\n",
    "    .set(\"spark.hadoop.fs.s3a.path.style.access\", \"true\") \n",
    "    .set(\"spark.hadoop.fs.s3a.impl\", \"org.apache.hadoop.fs.s3a.S3AFileSystem\")\n",
    "    .set('spark.hadoop.fs.s3a.aws.credentials.provider', 'org.apache.hadoop.fs.s3a.SimpleAWSCredentialsProvider')\n",
    "    .set(\"spark.hadoop.fs.s3a.connection.ssl.enabled\", \"false\")\n",
    "\n",
    "    .set(\"spark.sql.extensions\", \"io.delta.sql.DeltaSparkSessionExtension\") \n",
    "    .set(\"spark.sql.catalog.spark_catalog\", \"org.apache.spark.sql.delta.catalog.DeltaCatalog\")\n",
    ")\n",
    "\n",
    "sc = SparkContext.getOrCreate(spark_conf)\n",
    "spark = SparkSession(sc)"
   ]
  },
  {
   "cell_type": "markdown",
   "id": "acd5e5fa-0031-448e-aa40-96b8a61fec2b",
   "metadata": {
    "scrolled": true
   },
   "source": [
    "# Generate sample data\n",
    "def generate_sales_data(day, num_rows=100):\n",
    "    return spark.range(1, num_rows + 1).withColumn(\"user\", F.concat(F.lit(\"user_\"), (F.rand() * 1000).cast(\"int\"))) \\\n",
    "        .withColumn(\"product\", F.concat(F.lit(\"product_\"), (F.rand() * 100).cast(\"int\"))) \\\n",
    "        .withColumn(\"time\", F.lit(day))\n",
    "\n",
    "#def generate_products_data():\n",
    "#    return spark.range(1, 11).withColumn(\"name\", F.concat(F.lit(\"product_\"), F.col(\"id\"))) \\\n",
    "#        .withColumn(\"name\", F.concat(F.lit(\"Product \"), F.col(\"id\"))) \\\n",
    "#        .withColumn(\"price\", (F.rand() * 100).cast(\"double\"))\n",
    "\n",
    "def generate_products_data():\n",
    "    return spark.range(1, 11).withColumn(\"name\", F.concat(F.lit(\"product_\"), F.col(\"id\"))) \\\n",
    "        .withColumn(\"price\", (F.rand() * 100).cast(\"double\"))\n",
    "\n",
    "def generate_users_data():\n",
    "    return spark.range(1, 11).withColumn(\"user\", F.concat(F.lit(\"user_\"), F.col(\"id\"))) \\\n",
    "        .withColumn(\"name\", F.concat(F.lit(\"User \"), F.col(\"id\"))) \\\n",
    "        .withColumn(\"location\", F.concat(F.lit(\"Location_\"), (F.rand() * 10).cast(\"int\")))"
   ]
  },
  {
   "cell_type": "code",
   "execution_count": 3,
   "id": "ade1de56-6f7f-4d96-9ee7-0d5017865210",
   "metadata": {},
   "outputs": [],
   "source": [
    "# Generate sample data\n",
    "def generate_sales_data(day, num_rows=100):\n",
    "    return spark.range(1, num_rows + 1).withColumn(\"user\", F.concat(F.lit(\"user_\"), (F.rand() * 1000).cast(\"int\"))) \\\n",
    "        .withColumn(\"product\", F.concat(F.lit(\"product_\"), (F.rand() * 100).cast(\"int\"))) \\\n",
    "        .withColumn(\"time\", F.lit(day))\n",
    "\n",
    "def generate_products_data():\n",
    "    return spark.range(1, 301).withColumn(\"name\", F.concat(F.lit(\"product_\"), F.col(\"id\"))) \\\n",
    "        .withColumn(\"price\", (F.rand() * 100).cast(\"double\"))\n",
    "\n",
    "def generate_users_data():\n",
    "    return spark.range(1, 1001).withColumn(\"user\", F.concat(F.lit(\"user_\"), F.col(\"id\"))) \\\n",
    "        .withColumn(\"name\", F.concat(F.lit(\"User \"), F.col(\"id\"))) \\\n",
    "        .withColumn(\"location\", F.concat(F.lit(\"Location_\"), (F.rand() * 10).cast(\"int\")))\n",
    "\n",
    "sales_data = generate_sales_data(1, 100)\n",
    "products_data = generate_products_data()\n",
    "users_data = generate_users_data()"
   ]
  },
  {
   "cell_type": "code",
   "execution_count": 4,
   "id": "eac00277",
   "metadata": {},
   "outputs": [],
   "source": [
    "# Create Bronze tables\n",
    "num_rows = 100\n",
    "for day in range(1, 4):\n",
    "    sales_data = generate_sales_data(day, num_rows)\n",
    "    sales_table_name = f\"sale_day_{day}\"\n",
    "    sales_data.write.format(\"delta\").mode(\"overwrite\").save('s3a://assignment3/sales')"
   ]
  },
  {
   "cell_type": "code",
   "execution_count": 5,
   "id": "c0aec5b2-5aa2-4d77-8362-3d91f418401e",
   "metadata": {},
   "outputs": [],
   "source": [
    "products_data = generate_products_data()\n",
    "products_data.write.format(\"delta\").mode(\"overwrite\").save('s3a://assignment3/products')"
   ]
  },
  {
   "cell_type": "code",
   "execution_count": 6,
   "id": "c032a495-cb81-4a7d-b74d-0bee6efd1638",
   "metadata": {},
   "outputs": [],
   "source": [
    "users_data = generate_users_data()\n",
    "users_data.write.format(\"delta\").mode(\"overwrite\").save('s3a://assignment3/users')"
   ]
  },
  {
   "cell_type": "code",
   "execution_count": 7,
   "id": "93b1d8bd-e54e-4dfa-b6b3-65400126e893",
   "metadata": {},
   "outputs": [
    {
     "name": "stdout",
     "output_type": "stream",
     "text": [
      "+---+---------+------------------+\n",
      "| id|     name|             price|\n",
      "+---+---------+------------------+\n",
      "|  1|product_1| 52.80759514435586|\n",
      "|  2|product_2|11.414483782059238|\n",
      "|  3|product_3|18.435399641015003|\n",
      "|  4|product_4|4.4127595495788485|\n",
      "|  5|product_5| 67.65239787641933|\n",
      "+---+---------+------------------+\n",
      "only showing top 5 rows\n",
      "\n"
     ]
    }
   ],
   "source": [
    "products_data.show(5)"
   ]
  },
  {
   "cell_type": "code",
   "execution_count": 8,
   "id": "90e69349-567d-4825-81cb-20471f04a929",
   "metadata": {},
   "outputs": [
    {
     "name": "stdout",
     "output_type": "stream",
     "text": [
      "+---+------+------+----------+\n",
      "| id|  user|  name|  location|\n",
      "+---+------+------+----------+\n",
      "|  1|user_1|User 1|Location_5|\n",
      "|  2|user_2|User 2|Location_0|\n",
      "|  3|user_3|User 3|Location_7|\n",
      "|  4|user_4|User 4|Location_5|\n",
      "|  5|user_5|User 5|Location_3|\n",
      "+---+------+------+----------+\n",
      "only showing top 5 rows\n",
      "\n"
     ]
    }
   ],
   "source": [
    "users_data.show(5)"
   ]
  },
  {
   "cell_type": "code",
   "execution_count": 9,
   "id": "122db392-d36f-4625-acee-3f2bf78aa0ca",
   "metadata": {},
   "outputs": [
    {
     "name": "stdout",
     "output_type": "stream",
     "text": [
      "+---+--------+----------+----+\n",
      "| id|    user|   product|time|\n",
      "+---+--------+----------+----+\n",
      "|  1|user_992|product_11|   3|\n",
      "|  2| user_84|product_44|   3|\n",
      "|  3|user_760|product_38|   3|\n",
      "|  4|user_461|product_94|   3|\n",
      "|  5|user_711|product_18|   3|\n",
      "+---+--------+----------+----+\n",
      "only showing top 5 rows\n",
      "\n"
     ]
    }
   ],
   "source": [
    "sales_data.show(5)"
   ]
  },
  {
   "cell_type": "code",
   "execution_count": 10,
   "id": "c33a9205-11d7-4212-8971-7a38eb1a7e22",
   "metadata": {},
   "outputs": [],
   "source": [
    "sales_data = spark.read.format(\"delta\").load(\"s3a://assignment3/sales\")\n",
    "products_data = spark.read.format(\"delta\").load(\"s3a://assignment3/products\")\n",
    "users_data = spark.read.format(\"delta\").load(\"s3a://assignment3/users\")"
   ]
  },
  {
   "cell_type": "code",
   "execution_count": 13,
   "id": "7cbf680a-c96c-4088-89ca-233aea0d8c9a",
   "metadata": {},
   "outputs": [],
   "source": [
    "# Create Silver table\n",
    "detailed_sales_data = (\n",
    "    sales_data\n",
    "    .join(users_data, sales_data[\"user\"] == users_data[\"user\"], \"left_outer\")\n",
    "    .join(products_data, sales_data[\"product\"] == products_data[\"name\"], \"left_outer\")\n",
    "    .select(\n",
    "        sales_data[\"id\"].alias(\"sale_id\"),\n",
    "        sales_data[\"user\"],\n",
    "        users_data[\"name\"].alias(\"user_name\"),\n",
    "        users_data[\"location\"],\n",
    "        sales_data[\"product\"],\n",
    "        products_data[\"name\"].alias(\"product_name\"),\n",
    "        products_data[\"price\"],\n",
    "        sales_data[\"time\"]\n",
    "    )\n",
    ")\n"
   ]
  },
  {
   "cell_type": "code",
   "execution_count": 14,
   "id": "548813a1-baaf-4d1f-94e6-7c26023ea461",
   "metadata": {},
   "outputs": [
    {
     "name": "stdout",
     "output_type": "stream",
     "text": [
      "+-------+--------+---------+----------+----------+------------+------------------+----+\n",
      "|sale_id|    user|user_name|  location|   product|product_name|             price|time|\n",
      "+-------+--------+---------+----------+----------+------------+------------------+----+\n",
      "|      1|user_992| User 992|Location_8|product_11|  product_11| 46.18329598989321|   3|\n",
      "|      2| user_84|  User 84|Location_7|product_44|  product_44| 86.06372809598145|   3|\n",
      "|      3|user_760| User 760|Location_1|product_38|  product_38|47.167412702636334|   3|\n",
      "|      4|user_461| User 461|Location_3|product_94|  product_94| 37.35588144771739|   3|\n",
      "|      5|user_711| User 711|Location_8|product_18|  product_18| 38.37895620958446|   3|\n",
      "+-------+--------+---------+----------+----------+------------+------------------+----+\n",
      "only showing top 5 rows\n",
      "\n"
     ]
    }
   ],
   "source": [
    "detailed_sales_data.show(5)"
   ]
  },
  {
   "cell_type": "code",
   "execution_count": 16,
   "id": "1183f95d-587d-423a-9206-434b2767629b",
   "metadata": {},
   "outputs": [],
   "source": [
    "detailed_sales_data.write.format(\"delta\").mode(\"overwrite\").save('s3a://assignment3/silver_data')"
   ]
  },
  {
   "cell_type": "code",
   "execution_count": 18,
   "id": "be391f0b-e062-4bb9-a1d4-847ccbf915f3",
   "metadata": {},
   "outputs": [],
   "source": [
    "detailed_sales_data = spark.read.format(\"delta\").load(\"s3a://assignment3/silver_data\")"
   ]
  },
  {
   "cell_type": "code",
   "execution_count": 19,
   "id": "2f846928-a35b-4fe8-81e8-1017e6a7b53a",
   "metadata": {},
   "outputs": [],
   "source": [
    "# Sum of money per location\n",
    "money_per_location = (\n",
    "    detailed_sales_data\n",
    "    .groupBy(\"location\")\n",
    "    .agg(F.sum(\"price\").alias(\"total_money\"))\n",
    ")"
   ]
  },
  {
   "cell_type": "code",
   "execution_count": 21,
   "id": "4584a609-0c52-46fe-9fcd-5cf02cdd371a",
   "metadata": {},
   "outputs": [
    {
     "name": "stdout",
     "output_type": "stream",
     "text": [
      "+----------+------------------+\n",
      "|  location|       total_money|\n",
      "+----------+------------------+\n",
      "|Location_5|455.90583640898194|\n",
      "|Location_8| 364.3365932116258|\n",
      "|Location_9| 852.2728701511855|\n",
      "|Location_4|345.62185527984883|\n",
      "|Location_3| 939.3026096200543|\n",
      "+----------+------------------+\n",
      "only showing top 5 rows\n",
      "\n"
     ]
    }
   ],
   "source": [
    "money_per_location.show(5)"
   ]
  },
  {
   "cell_type": "code",
   "execution_count": 20,
   "id": "7522ee23-07e6-46f4-a47a-ff6fb0962189",
   "metadata": {},
   "outputs": [],
   "source": [
    "# Amount of sales per product\n",
    "sales_per_product = (\n",
    "    detailed_sales_data\n",
    "    .groupBy(\"product_name\")\n",
    "    .agg(F.count(\"sale_id\").alias(\"sales_count\"))\n",
    ")"
   ]
  },
  {
   "cell_type": "code",
   "execution_count": 22,
   "id": "35409fab-765c-47ef-8732-399f83696782",
   "metadata": {},
   "outputs": [
    {
     "name": "stdout",
     "output_type": "stream",
     "text": [
      "+------------+-----------+\n",
      "|product_name|sales_count|\n",
      "+------------+-----------+\n",
      "|  product_55|          3|\n",
      "|  product_98|          1|\n",
      "|  product_60|          1|\n",
      "|  product_78|          4|\n",
      "|  product_53|          4|\n",
      "+------------+-----------+\n",
      "only showing top 5 rows\n",
      "\n"
     ]
    }
   ],
   "source": [
    "sales_per_product.show(5)"
   ]
  },
  {
   "cell_type": "code",
   "execution_count": 23,
   "id": "63a66279-7e8f-4f0d-919a-4a3fb8ba7d4c",
   "metadata": {},
   "outputs": [],
   "source": [
    "money_per_location.write.format(\"delta\").mode(\"overwrite\").save('s3a://assignment3/money_per_location_golden')"
   ]
  },
  {
   "cell_type": "code",
   "execution_count": null,
   "id": "b84761fd-0be2-407b-b6b0-c6d34b5ed1b7",
   "metadata": {},
   "outputs": [],
   "source": [
    "sales_per_product.write.format(\"delta\").mode(\"overwrite\").save('s3a://assignment3/sales_per_product_golden')"
   ]
  }
 ],
 "metadata": {
  "kernelspec": {
   "display_name": "Python 3 (ipykernel)",
   "language": "python",
   "name": "python3"
  },
  "language_info": {
   "codemirror_mode": {
    "name": "ipython",
    "version": 3
   },
   "file_extension": ".py",
   "mimetype": "text/x-python",
   "name": "python",
   "nbconvert_exporter": "python",
   "pygments_lexer": "ipython3",
   "version": "3.11.6"
  }
 },
 "nbformat": 4,
 "nbformat_minor": 5
}
